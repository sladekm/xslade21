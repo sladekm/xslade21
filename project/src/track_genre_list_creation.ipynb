{
 "cells": [
  {
   "cell_type": "markdown",
   "metadata": {},
   "source": [
    "Autor: Matyáš Sládek <br>\n",
    "Rok: 2020 <br>\n",
    "\n",
    "Tento soubor obsahuje buňky pro vytvoření CSV souborů s informacemi o žánrech skladeb pro datové sady \"Extended Ballroom Dataset\", \"FMA: A Dataset For Music Analysis\" a \"GTZAN\". <br>\n",
    "Při použití jiné datové sady je nutné pro správnou funkčnost projektu vytvořit takovýto soubor, který pro každou skladbu obsahuje dva sloupce ve formátu [id_skladby] [žánr_skladby]. <br>\n",
    "Soubor musí být uložen ve formátu CSV do složky ../metadata/track_genre_lists/ s názvem {název_datové_sady}_track_genre_lists. <br>"
   ]
  },
  {
   "cell_type": "code",
   "execution_count": 1,
   "metadata": {},
   "outputs": [],
   "source": [
    "import os\n",
    "import sys\n",
    "import pandas as pd"
   ]
  },
  {
   "cell_type": "markdown",
   "metadata": {},
   "source": [
    "Tato buňka vytvoří CSV pro datovou sadu FMA extrakcí informací s přiloženého souboru CSV."
   ]
  },
  {
   "cell_type": "code",
   "execution_count": 2,
   "metadata": {},
   "outputs": [],
   "source": [
    "df = pd.read_csv(\"../data/FMA/fma_metadata/tracks.csv\", index_col=0, header=[0, 1])   # Load the CSV containing track info\n",
    "subset = df.index[df['set', 'subset'] == 'small']   # Extract track ids for the smallest dataset\n",
    "df = df.loc[subset]   # Remove information about tracks from other versions of the dataset\n",
    "df = df['track']   # Leave only the information about the tracks themselves. (there is other info included)\n",
    "df = df[['genre_top']]   # From the info about tracks, leave only the info about its main genre\n",
    "df = df.rename(columns={'genre_top':'genre'})   # Rename the genre column to be consistent with other used datasets\n",
    "df.index = df.index.map(str)   # Transform the index from integer to string format\n",
    "df.index = df.index.str.pad(6, side='left', fillchar='0')   # Append zeroes to the beginning of the string, so that the sizes of the indices are consistent\n",
    "df = df.sort_index()   # Sort the dataset by indices for more efficient searching\n",
    "\n",
    "# Create folder for storing track_genre_lists\n",
    "if not os.path.exists('../metadata/track_genre_lists'):\n",
    "    try:\n",
    "        os.mkdir('../metadata/track_genre_lists')\n",
    "    except Exception as e:\n",
    "        print('{}: {}'.format('os.mkdir(../metadata/track_genre_lists)', repr(e)), file=sys.stderr)\n",
    "\n",
    "df.to_csv('../metadata/track_genre_lists/FMA_track_genre_list.csv', header=True)   # Save the dataframe to CSV file"
   ]
  },
  {
   "cell_type": "markdown",
   "metadata": {},
   "source": [
    "Tato buňka vytvoří CSV pro datovou sadu GTZAN extrakcí informací z názvu jejích skladeb."
   ]
  },
  {
   "cell_type": "code",
   "execution_count": 3,
   "metadata": {},
   "outputs": [],
   "source": [
    "data = {}   # Stores the info about tracks genre for later dataframe creation\n",
    "\n",
    "for _, _, files in os.walk(\"../data/GTZAN\"):   # Go through each file in the dataset\n",
    "    for file in files:   # For each of the files\n",
    "        if file.lower().endswith('.au'):   # If the current file is in the ULAW format\n",
    "            entry = os.path.splitext(file)[0]   # Leave only the file name itself\n",
    "            data.update({entry:entry.split('.')[0]})   # Append the index - genre info from the file name to the data dictionary\n",
    "            \n",
    "df = pd.DataFrame.from_dict(data, orient='index', columns=['genre'])   # Create the dataframe from the data dictionary\n",
    "df.index.name = \"track_id\"   # Rename the index column to be consistent with other used datasets\n",
    "df = df.sort_index()   # Sort the dataset by indices for more efficient searching\n",
    "\n",
    "# Create folder for storing track_genre_lists\n",
    "if not os.path.exists('../metadata/track_genre_lists'):\n",
    "    try:\n",
    "        os.mkdir('../metadata/track_genre_lists')\n",
    "    except Exception as e:\n",
    "        print('{}: {}'.format('os.mkdir(../metadata/track_genre_lists)', repr(e)), file=sys.stderr)\n",
    "\n",
    "df.to_csv('../metadata/track_genre_lists/GTZAN_track_genre_list.csv', header=True)   # Save the dataframe to CSV file"
   ]
  },
  {
   "cell_type": "markdown",
   "metadata": {},
   "source": [
    "Tato buňka vytvoří CSV pro datovou sadu EBD extrakcí informací z názvů skladeb a složek, ve kterých jsou tyto uloženy.              "
   ]
  },
  {
   "cell_type": "code",
   "execution_count": 4,
   "metadata": {},
   "outputs": [],
   "source": [
    "data = {}   # Stores the info about tracks genre for later dataframe creation\n",
    "\n",
    "for dir_path, _, files in os.walk('../data/EBD'):   # Go through each file in the dataset\n",
    "    for file in files:   # For each of the files\n",
    "        if file.lower().endswith('.mp3'):   # If the current file is in the MP3 format\n",
    "            data.update({os.path.splitext(file)[0]:os.path.basename(dir_path)})   # Append the index - genre info from the folder and file name to the data dictionary\n",
    "                    \n",
    "df = pd.DataFrame.from_dict(data, orient='index', columns=['genre'])   # Create the dataframe from the data dictionary\n",
    "df.index.name = \"track_id\"   # Rename the index column to be consistent with other used datasets\n",
    "df = df.sort_index()   # Sort the dataset by indices for more efficient searching\n",
    "\n",
    "# Create folder for storing track_genre_lists\n",
    "if not os.path.exists('../metadata/track_genre_lists'):\n",
    "    try:\n",
    "        os.mkdir('../metadata/track_genre_lists')\n",
    "    except Exception as e:\n",
    "        print('{}: {}'.format('os.mkdir(../metadata/track_genre_lists)', repr(e)), file=sys.stderr)\n",
    "\n",
    "df.to_csv('../metadata/track_genre_lists/EBD_track_genre_list.csv', header=True)   # Save the dataframe to CSV file"
   ]
  },
  {
   "cell_type": "code",
   "execution_count": null,
   "metadata": {},
   "outputs": [],
   "source": []
  }
 ],
 "metadata": {
  "kernelspec": {
   "display_name": "Python 3",
   "language": "python",
   "name": "python3"
  },
  "language_info": {
   "codemirror_mode": {
    "name": "ipython",
    "version": 3
   },
   "file_extension": ".py",
   "mimetype": "text/x-python",
   "name": "python",
   "nbconvert_exporter": "python",
   "pygments_lexer": "ipython3",
   "version": "3.8.2"
  }
 },
 "nbformat": 4,
 "nbformat_minor": 4
}
